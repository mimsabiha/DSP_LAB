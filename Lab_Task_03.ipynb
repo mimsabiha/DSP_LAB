{
  "nbformat": 4,
  "nbformat_minor": 0,
  "metadata": {
    "colab": {
      "name": "Lab_Task_03.ipynb",
      "provenance": [],
      "authorship_tag": "ABX9TyOelAdUnbBNKyAOmINA0Mgh",
      "include_colab_link": true
    },
    "kernelspec": {
      "name": "python3",
      "display_name": "Python 3"
    },
    "language_info": {
      "name": "python"
    }
  },
  "cells": [
    {
      "cell_type": "markdown",
      "metadata": {
        "id": "view-in-github",
        "colab_type": "text"
      },
      "source": [
        "<a href=\"https://colab.research.google.com/github/mimsabiha/DSP_LAB/blob/main/Lab_Task_03.ipynb\" target=\"_parent\"><img src=\"https://colab.research.google.com/assets/colab-badge.svg\" alt=\"Open In Colab\"/></a>"
      ]
    },
    {
      "cell_type": "code",
      "execution_count": null,
      "metadata": {
        "colab": {
          "base_uri": "https://localhost:8080/"
        },
        "id": "adt6mJcCcDn-",
        "outputId": "4381d36d-96bb-4814-dfcc-7868c5fa7781"
      },
      "outputs": [
        {
          "output_type": "stream",
          "name": "stdout",
          "text": [
            "[ 2  8  5 17 23  5  0]\n"
          ]
        }
      ],
      "source": [
        "import numpy as np\n",
        "a= np.array([2,0,3,5])\n",
        "b=np.array([1,4,1,0])\n",
        "print(np.convolve(a,b))"
      ]
    },
    {
      "cell_type": "code",
      "source": [
        "#convolution\n",
        "lx = len(a)\n",
        "ly = len(b)\n",
        "\n",
        "s = np.zeros((lx+ly))\n",
        "for m in range(lx):\n",
        "  for n in range(ly):\n",
        "    s[m+n]= s[m+n] + a[m]*b[n]\n",
        "\n",
        "print(s)   \n"
      ],
      "metadata": {
        "colab": {
          "base_uri": "https://localhost:8080/"
        },
        "id": "9y2zznvLfT6z",
        "outputId": "fc243e75-34a4-491a-f473-b8a6baae3c9b"
      },
      "execution_count": null,
      "outputs": [
        {
          "output_type": "stream",
          "name": "stdout",
          "text": [
            "[ 2.  8.  5. 17. 23.  5.  0.  0.]\n"
          ]
        }
      ]
    },
    {
      "cell_type": "code",
      "source": [
        "y = np.correlate(a,b,mode='full')\n",
        "print(y)"
      ],
      "metadata": {
        "colab": {
          "base_uri": "https://localhost:8080/"
        },
        "id": "tOLVpPTUjAvG",
        "outputId": "cb215a56-3e01-4508-ae37-dc57e9cbc060"
      },
      "execution_count": null,
      "outputs": [
        {
          "output_type": "stream",
          "name": "stdout",
          "text": [
            "[ 0  2  8  5 17 23  5]\n"
          ]
        }
      ]
    },
    {
      "cell_type": "code",
      "source": [
        "#cross CORREALTE\n",
        "b=np.flip(b)\n",
        "lx = len(a)\n",
        "ly = len(b)\n",
        "\n",
        "s = np.zeros((lx+ly))\n",
        "for m in range(lx):\n",
        "  for n in range(ly):\n",
        "    s[m+n]= s[m+n] + a[m]*b[n]\n",
        "\n",
        "print(s) "
      ],
      "metadata": {
        "colab": {
          "base_uri": "https://localhost:8080/"
        },
        "id": "En_S0LgOj8TK",
        "outputId": "357a2813-3e13-4a45-9540-2426656b1257"
      },
      "execution_count": null,
      "outputs": [
        {
          "output_type": "stream",
          "name": "stdout",
          "text": [
            "[ 0.  2.  8.  5. 17. 23.  5.  0.]\n"
          ]
        }
      ]
    },
    {
      "cell_type": "code",
      "source": [
        "#Auto CORREALTE\n",
        "c=np.flip(a)\n",
        "lx = len(a)\n",
        "ly = len(a)\n",
        "\n",
        "s = np.zeros((lx+ly))\n",
        "for m in range(lx):\n",
        "  for n in range(ly):\n",
        "    s[m+n]= s[m+n] + a[m]*c[n]\n",
        "\n",
        "print(s) "
      ],
      "metadata": {
        "colab": {
          "base_uri": "https://localhost:8080/"
        },
        "id": "IwiLWtbSkIdL",
        "outputId": "18d403c1-c532-4013-ddfd-755175ab67e3"
      },
      "execution_count": null,
      "outputs": [
        {
          "output_type": "stream",
          "name": "stdout",
          "text": [
            "[10.  6. 15. 38. 15.  6. 10.  0.]\n"
          ]
        }
      ]
    },
    {
      "cell_type": "code",
      "source": [
        "y = np.correlate(a,a,mode='full')\n",
        "print(y)"
      ],
      "metadata": {
        "colab": {
          "base_uri": "https://localhost:8080/"
        },
        "id": "IacvGg6glKvS",
        "outputId": "9fd2855d-6941-47ac-a413-b5d38cf4e589"
      },
      "execution_count": null,
      "outputs": [
        {
          "output_type": "stream",
          "name": "stdout",
          "text": [
            "[10  6 15 38 15  6 10]\n"
          ]
        }
      ]
    }
  ]
}